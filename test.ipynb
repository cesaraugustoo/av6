{
 "cells": [
  {
   "cell_type": "markdown",
   "metadata": {},
   "source": [
    "## Exercício 1"
   ]
  },
  {
   "cell_type": "markdown",
   "metadata": {},
   "source": [
    "Mesmo operações simples podem ter tempos de execução diferentes dependendo da forma como são escritas ou implementadas. Neste exercício, você testará a rapidez de comandos simples repetidos muitas vezes, usando o módulo `time`."
   ]
  },
  {
   "cell_type": "markdown",
   "metadata": {},
   "source": [
    "a) Loop de soma simples\n",
    "\n",
    "Escreva um código que calcule a soma de $1+2+3+⋯+N$ usando um laço `for`, com:\n",
    "\n",
    "```python\n",
    "soma = 0\n",
    "for i in range(1, N+1):\n",
    "    soma += i\n",
    "```\n",
    "\n",
    "Use o módulo `time` para medir o tempo de execução para diferentes valores de $N=10^5$,$10^6$,$10^7$."
   ]
  },
  {
   "cell_type": "code",
   "execution_count": null,
   "metadata": {},
   "outputs": [],
   "source": [
    "import timeit"
   ]
  },
  {
   "cell_type": "code",
   "execution_count": null,
   "metadata": {},
   "outputs": [],
   "source": [
    "# a) Loop de soma simples\n",
    "print(\"=== MÉTODO A: Loop de soma simples ===\")\n",
    "N = (10**5, 10**6, 10**7)\n",
    "tempos_loop = []\n",
    "\n",
    "for n in N:\n",
    "    t = timeit.Timer(\n",
    "        stmt=\"\"\"\n",
    "soma = 0 \n",
    "for i in range(1, n + 1): \n",
    "    soma += i\n",
    "\"\"\",\n",
    "        globals={'n': n})\n",
    "    tempo = t.timeit(number=1)\n",
    "    tempos_loop.append(tempo)\n",
    "    print(f'Para n = {n:>8}, tempo gasto: {tempo:.10f} segundos')\n",
    "\n",
    "print()"
   ]
  },
  {
   "cell_type": "markdown",
   "metadata": {},
   "source": [
    "b) Alternativa com `sum(range(...))`\n",
    "\n",
    "Agora calcule a mesma soma com:\n",
    "\n",
    "```python\n",
    "soma = sum(range(1, N+1))\n",
    "```"
   ]
  },
  {
   "cell_type": "code",
   "execution_count": null,
   "metadata": {},
   "outputs": [],
   "source": [
    "# b) Alternativa com sum(range(...))\n",
    "print(\"=== MÉTODO B: sum(range(...)) ===\")\n",
    "tempos_sum = []\n",
    "\n",
    "for n in N:\n",
    "    t = timeit.Timer(\n",
    "        stmt=\"\"\"\n",
    "soma = sum(range(1, n+1))\n",
    "\"\"\",\n",
    "        globals={'n': n})\n",
    "    tempo = t.timeit(number=1)\n",
    "    tempos_sum.append(tempo)\n",
    "    print(f'Para n = {n:>8}, tempo gasto: {tempo:.10f} segundos')\n",
    "\n",
    "print()"
   ]
  },
  {
   "cell_type": "markdown",
   "metadata": {},
   "source": [
    "c) Fórmula direta\n",
    "\n",
    "Use a fórmula matemática:\n",
    "\n",
    "$$\n",
    "S = \\frac{N(N+1)}{2}\n",
    "$$"
   ]
  },
  {
   "cell_type": "code",
   "execution_count": null,
   "metadata": {},
   "outputs": [],
   "source": [
    "# c) Fórmula direta\n",
    "print(\"=== MÉTODO C: Fórmula matemática ===\")\n",
    "tempos_formula = []\n",
    "\n",
    "for n in N:\n",
    "    t = timeit.Timer(\n",
    "        stmt=\"\"\"\n",
    "soma = (n*(n + 1)) // 2\n",
    "\"\"\",\n",
    "        globals={'n': n})\n",
    "    tempo = t.timeit(number=1)\n",
    "    tempos_formula.append(tempo)\n",
    "    print(f'Para n = {n:>8}, tempo gasto: {tempo:.10f} segundos')\n",
    "\n",
    "print()"
   ]
  },
  {
   "cell_type": "markdown",
   "metadata": {},
   "source": [
    "d) (Exploração mais desafiadora)\n",
    "\n",
    "Implemente uma função que execute a mesma soma, mas armazenando todos os resultados parciais em uma lista:\n",
    "\n",
    "```python\n",
    "somas = []\n",
    "s = 0\n",
    "for i in range(1, N+1):\n",
    "    s += i\n",
    "    somas.append(s)\n",
    "```"
   ]
  },
  {
   "cell_type": "code",
   "execution_count": null,
   "metadata": {},
   "outputs": [],
   "source": [
    "# d) Loop com armazenamento em lista\n",
    "print(\"=== MÉTODO D: Loop com armazenamento em lista ===\")\n",
    "tempos_lista = []\n",
    "\n",
    "for n in N:\n",
    "    t = timeit.Timer(\n",
    "        stmt=\"\"\"\n",
    "somas = []\n",
    "s = 0\n",
    "for i in range(1, n + 1):\n",
    "    s += i\n",
    "    somas.append(s)\n",
    "\"\"\",\n",
    "        globals={'n': n})\n",
    "    tempo = t.timeit(number=1)\n",
    "    tempos_lista.append(tempo)\n",
    "    print(f'Para n = {n:>8}, tempo gasto: {tempo:.10f} segundos')\n",
    "\n",
    "print()"
   ]
  },
  {
   "cell_type": "code",
   "execution_count": null,
   "metadata": {},
   "outputs": [],
   "source": [
    "# Comparação dos resultados\n",
    "print(\"=== COMPARAÇÃO DOS MÉTODOS ===\")\n",
    "print(f\"{'N':<10} {'Loop':<12} {'sum(range)':<12} {'Fórmula':<12} {'Lista':<12}\")\n",
    "print(\"-\" * 60)\n",
    "\n",
    "for i, n in enumerate(N):\n",
    "    print(f\"{n:<10} {tempos_loop[i]:<12.6f} {tempos_sum[i]:<12.6f} {tempos_formula[i]:<12.6f} {tempos_lista[i]:<12.6f}\")\n",
    "\n",
    "print(\"\\n=== ANÁLISE DE DESEMPENHO RELATIVO ===\")\n",
    "for i, n in enumerate(N):\n",
    "    print(f\"\\nPara N = {n}:\")\n",
    "    print(f\"  - sum(range) é {tempos_loop[i]/tempos_sum[i]:.2f}x mais rápido que loop simples\")\n",
    "    print(f\"  - Fórmula é {tempos_loop[i]/tempos_formula[i]:.0f}x mais rápida que loop simples\")\n",
    "    print(f\"  - Loop com lista é {tempos_lista[i]/tempos_loop[i]:.2f}x mais lento que loop simples\")"
   ]
  },
  {
   "cell_type": "code",
   "execution_count": null,
   "metadata": {},
   "outputs": [],
   "source": [
    "# Diagrama de fluxo do algoritmo\n",
    "import base64\n",
    "from IPython.display import Image, display\n",
    "\n",
    "def mm(graph):\n",
    "    graphbytes = graph.encode(\"utf8\")\n",
    "    base64_bytes = base64.urlsafe_b64encode(graphbytes)\n",
    "    base64_string = base64_bytes.decode(\"ascii\")\n",
    "    display(Image(url=\"https://mermaid.ink/img/\" + base64_string))\n",
    "\n",
    "diagrama = \"\"\"\n",
    "flowchart TD\n",
    "    A[Início: Definir valores de N] --> B[N = 10^5, 10^6, 10^7]\n",
    "    B --> C{Para cada valor de N}\n",
    "    \n",
    "    C --> D[Método A: Loop Simples]\n",
    "    D --> D1[soma = 0<br/>for i in range\\(1, N+1\\):<br/>    soma += i]\n",
    "    D1 --> D2[Medir tempo com timeit]\n",
    "    \n",
    "    C --> E[Método B: sum\\(range\\)]\n",
    "    E --> E1[soma = sum\\(range\\(1, N+1\\)\\)]\n",
    "    E1 --> E2[Medir tempo com timeit]\n",
    "    \n",
    "    C --> F[Método C: Fórmula Matemática]\n",
    "    F --> F1[soma = N×\\(N+1\\)/2]\n",
    "    F1 --> F2[Medir tempo com timeit]\n",
    "    \n",
    "    C --> G[Método D: Loop com Lista]\n",
    "    G --> G1[somas = []<br/>s = 0<br/>for i in range\\(1, N+1\\):<br/>    s += i<br/>    somas.append\\(s\\)]\n",
    "    G1 --> G2[Medir tempo com timeit]\n",
    "    \n",
    "    D2 --> H[Armazenar resultados]\n",
    "    E2 --> H\n",
    "    F2 --> H\n",
    "    G2 --> H\n",
    "    \n",
    "    H --> I{Todos os N testados?}\n",
    "    I -->|Não| C\n",
    "    I -->|Sim| J[Comparar desempenhos]\n",
    "    J --> K[Análise dos resultados]\n",
    "    K --> L[Fim]\n",
    "    \n",
    "    style A fill:#e1f5fe\n",
    "    style D fill:#f3e5f5\n",
    "    style E fill:#e8f5e8\n",
    "    style F fill:#fff3e0\n",
    "    style G fill:#ffebee\n",
    "    style L fill:#e1f5fe\n",
    "\"\"\"\n",
    "\n",
    "mm(diagrama)"
   ]
  },
  {
   "cell_type": "markdown",
   "metadata": {},
   "source": [
    "## Análise e Discussão dos Resultados\n",
    "\n",
    "**O que faz o método D (loop com lista) ser mais lento?**\n",
    "\n",
    "O método D é mais lento devido a vários fatores:\n",
    "\n",
    "1. **Overhead de alocação de memória**: A lista precisa crescer dinamicamente conforme novos elementos são adicionados, exigindo realocações periódicas de memória.\n",
    "\n",
    "2. **Operações adicionais**: Além da soma, o código executa operações extras:\n",
    "   - Criação de objetos (cada número é um objeto Python)\n",
    "   - Chamadas ao método `append()`\n",
    "   - Gerenciamento da estrutura da lista\n",
    "\n",
    "3. **Uso de memória**: Armazenar todos os valores intermediários consome muito mais memória, causando possível impacto no cache do processador.\n",
    "\n",
    "**O uso de `append()` impacta o desempenho?**\n",
    "\n",
    "Sim, significativamente. O `append()` tem complexidade amortizada O(1), mas ocasionalmente precisa realocar a lista inteira quando a capacidade é excedida, resultando em operações O(n). Para N elementos, isso acontece aproximadamente log₂(N) vezes.\n",
    "\n",
    "### Conclusões do experimento:\n",
    "\n",
    "1. **Fórmula matemática** é sempre a mais eficiente (O(1)) - tempo constante independente de N\n",
    "2. **sum(range())** é mais rápida que loop manual por ser implementada em C\n",
    "3. **Loop simples** tem desempenho previsível O(N)\n",
    "4. **Loop com lista** é o mais lento devido ao overhead de armazenamento\n",
    "\n",
    "A diferença de desempenho se torna mais pronunciada conforme N aumenta, demonstrando a importância da escolha do algoritmo adequado."
   ]
  }
 ],
 "metadata": {
  "kernelspec": {
   "display_name": "base",
   "language": "python",
   "name": "python3"
  },
  "language_info": {
   "codemirror_mode": {
    "name": "ipython",
    "version": 3
   },
   "file_extension": ".py",
   "mimetype": "text/x-python",
   "name": "python",
   "nbconvert_exporter": "python",
   "pygments_lexer": "ipython3",
   "version": "3.12.7"
  }
 },
 "nbformat": 4,
 "nbformat_minor": 2
}

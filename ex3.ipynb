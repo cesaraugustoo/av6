{
 "cells": [
  {
   "cell_type": "markdown",
   "metadata": {},
   "source": [
    "## Exercício 3"
   ]
  },
  {
   "cell_type": "markdown",
   "metadata": {},
   "source": [
    "Existem diferentes maneiras de calcular uma potência $x^n$. Algumas são simples, mas lentas. Outras, como a exponenciação rápida, são muito mais eficientes. Neste exercício, vamos comparar o tempo de execução de abordagens distintas para resolver o mesmo problema.\n",
    "O uso da linguagem Python é obrigatório, bem como o uso do módulo `time` para medir o desempenho."
   ]
  },
  {
   "cell_type": "markdown",
   "metadata": {},
   "source": [
    "a) Três abordagens para calcular $x^n$\n",
    "\n",
    "Implemente as seguintes funções em Python, todas com entrada real $x$ e inteiro $n \\geq 1$\n",
    ":\n",
    "\n",
    "1. Multiplicação repetida com laço `for`  \n",
    "   Calcula $x^n$  multiplicando $x$  por si mesmo $n$ vezes.\n",
    "\n",
    "2. Uso direto do operador `**` do Python\n",
    "\n",
    "3. Exponenciação rápida (método divide-e-conquista)  \n",
    "   Baseie-se na identidade:\n",
    "   $$\n",
    "   x^n = \n",
    "   $$\n",
    "   Use uma função recursiva para essa implementação."
   ]
  },
  {
   "cell_type": "markdown",
   "metadata": {},
   "source": [
    "b) Comparação de tempo de execução\n",
    "Para $x=1.000001$ e diferentes valores de $n$ (por exemplo $10^2$,$10^4$,$10^6$,$10^8$), meça o tempo de execução das três abordagens.\n",
    "\n",
    "Use `time.time()` para medir os tempos. Imprima os tempos obtidos e os resultados de cada método para verificar se são próximos."
   ]
  },
  {
   "cell_type": "markdown",
   "metadata": {},
   "source": [
    "c) Gráfico comparativo"
   ]
  },
  {
   "cell_type": "markdown",
   "metadata": {},
   "source": [
    "d) (Exploração mais desafiadora)\n",
    "\n",
    "Adapte o código da exponenciação rápida para que ele também funcione com expoentes negativos e valores de $x \\in (0,1)$.\n",
    "\n",
    "Implemente os testes para $x=0.9999$ e $n=−10^4$"
   ]
  },
  {
   "cell_type": "code",
   "execution_count": null,
   "metadata": {},
   "outputs": [],
   "source": []
  }
 ],
 "metadata": {
  "language_info": {
   "name": "python"
  }
 },
 "nbformat": 4,
 "nbformat_minor": 2
}

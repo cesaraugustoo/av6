{
 "cells": [
  {
   "cell_type": "markdown",
   "metadata": {},
   "source": [
    "## Exercício 1"
   ]
  },
  {
   "cell_type": "markdown",
   "metadata": {},
   "source": [
    "Mesmo operações simples podem ter tempos de execução diferentes dependendo da forma como são escritas ou implementadas. Neste exercício, você testará a rapidez de comandos simples repetidos muitas vezes, usando o módulo `time`."
   ]
  },
  {
   "cell_type": "markdown",
   "metadata": {},
   "source": [
    "a) Loop de soma simples\n",
    "\n",
    "Escreva um código que calcule a soma de $1+2+3+⋯+N$ usando um laço `for`, com:\n",
    "\n",
    "```python\n",
    "soma = 0\n",
    "for i in range(1, N+1):\n",
    "    soma += i\n",
    "```\n",
    "\n",
    "Use o módulo `time` para medir o tempo de execução para diferentes valores de $N=10^5$,$10^6$,$10^7$."
   ]
  },
  {
   "cell_type": "code",
   "execution_count": 16,
   "metadata": {},
   "outputs": [
    {
     "data": {
      "text/html": [
       "<img src=\"https://mermaid.ink/img/CmZsb3djaGFydCBURAogICAgQVtJbsOtY2lvOiBEZWZpbmlyIHZhbG9yZXMgZGUgTl0gLS0-IEJbIk4gPSAxMF41LCAxMF42LCAxMF43Il0KICAgIEIgLS0-IEN7UGFyYSBjYWRhIHZhbG9yIGRlIE59CgogICAgQyAtLT4gRFtNw6l0b2RvIEE6IExvb3AgU2ltcGxlc10KICAgIEQgLS0-IEQxWyJzb21hID0gMDxici8-Zm9yIGkgaW4gcmFuZ2UjNDA7MSwgTisxIzQxOzo8YnIvPiAgICBzb21hICs9IGkiXQogICAgRDEgLS0-IEQyW01lZGlyIHRlbXBvIGNvbSB0aW1laXRdCgogICAgQyAtLT4gRVsiTcOpdG9kbyBCOiBzdW0jNDA7cmFuZ2UjNDE7Il0KICAgIEUgLS0-IEUxWyJzb21hID0gc3VtIzQwO3JhbmdlIzQwOzEsIE4rMSM0MTsjNDE7Il0KICAgIEUxIC0tPiBFMltNZWRpciB0ZW1wbyBjb20gdGltZWl0XQoKICAgIEMgLS0-IEZbTcOpdG9kbyBDOiBGw7NybXVsYSBNYXRlbcOhdGljYV0KICAgIEYgLS0-IEYxWyJzb21hID0gTsOXIzQwO04rMSM0MTsvMiJdCiAgICBGMSAtLT4gRjJbTWVkaXIgdGVtcG8gY29tIHRpbWVpdF0KCiAgICBDIC0tPiBHW03DqXRvZG8gRDogTG9vcCBjb20gTGlzdGFdCiAgICBHIC0tPiBHMVsic29tYXMgPSBbXTxici8-cyA9IDA8YnIvPmZvciBpIGluIHJhbmdlIzQwOzEsIE4rMSM0MTs6PGJyLz4gICAgcyArPSBpPGJyLz4gICAgc29tYXMuYXBwZW5kIzQwO3MjNDE7Il0KICAgIEcxIC0tPiBHMltNZWRpciB0ZW1wbyBjb20gdGltZWl0XQoKICAgIEQyIC0tPiBIW0FybWF6ZW5hciByZXN1bHRhZG9zXQogICAgRTIgLS0-IEgKICAgIEYyIC0tPiBICiAgICBHMiAtLT4gSAoKICAgIEggLS0-IEl7VG9kb3Mgb3MgTiB0ZXN0YWRvcz99CiAgICBJIC0tPnxOw6NvfCBDCiAgICBJIC0tPnxTaW18IEpbQ29tcGFyYXIgZGVzZW1wZW5ob3NdCiAgICBKIC0tPiBLW0Fuw6FsaXNlIGRvcyByZXN1bHRhZG9zXQogICAgSyAtLT4gTFtGaW1dCgogICAgc3R5bGUgQSBmaWxsOiNlMWY1ZmUKICAgIHN0eWxlIEQgZmlsbDojZjNlNWY1CiAgICBzdHlsZSBFIGZpbGw6I2U4ZjVlOAogICAgc3R5bGUgRiBmaWxsOiNmZmYzZTAKICAgIHN0eWxlIEcgZmlsbDojZmZlYmVlCiAgICBzdHlsZSBMIGZpbGw6I2UxZjVmZQo=\"/>"
      ],
      "text/plain": [
       "<IPython.core.display.Image object>"
      ]
     },
     "metadata": {},
     "output_type": "display_data"
    }
   ],
   "source": [
    "import base64\n",
    "from IPython.display import Image, display\n",
    "\n",
    "def mm(graph):\n",
    "    graphbytes = graph.encode(\"utf8\")\n",
    "    base64_bytes = base64.urlsafe_b64encode(graphbytes)\n",
    "    base64_string = base64_bytes.decode(\"ascii\")\n",
    "    display(Image(url=\"https://mermaid.ink/img/\" + base64_string))\n",
    "\n",
    "diagrama = \"\"\"\n",
    "flowchart TD\n",
    "    A[Início: Definir valores de N] --> B[\"N = 10^5, 10^6, 10^7\"]\n",
    "    B --> C{Para cada valor de N}\n",
    "    \n",
    "    C --> D[Método A: Loop Simples]\n",
    "    D --> D1[\"soma = 0<br/>for i in range#40;1, N+1#41;:<br/>    soma += i\"]\n",
    "    D1 --> D2[Medir tempo com timeit]\n",
    "    \n",
    "    C --> E[\"Método B: sum#40;range#41;\"]\n",
    "    E --> E1[\"soma = sum#40;range#40;1, N+1#41;#41;\"]\n",
    "    E1 --> E2[Medir tempo com timeit]\n",
    "    \n",
    "    C --> F[Método C: Fórmula Matemática]\n",
    "    F --> F1[\"soma = N×#40;N+1#41;/2\"]\n",
    "    F1 --> F2[Medir tempo com timeit]\n",
    "    \n",
    "    C --> G[Método D: Loop com Lista]\n",
    "    G --> G1[\"somas = []<br/>s = 0<br/>for i in range#40;1, N+1#41;:<br/>    s += i<br/>    somas.append#40;s#41;\"]\n",
    "    G1 --> G2[Medir tempo com timeit]\n",
    "    \n",
    "    D2 --> H[Armazenar resultados]\n",
    "    E2 --> H\n",
    "    F2 --> H\n",
    "    G2 --> H\n",
    "    \n",
    "    H --> I{Todos os N testados?}\n",
    "    I -->|Não| C\n",
    "    I -->|Sim| J[Comparar desempenhos]\n",
    "    J --> K[Análise dos resultados]\n",
    "    K --> L[Fim]\n",
    "    \n",
    "    style A fill:#e1f5fe\n",
    "    style D fill:#f3e5f5\n",
    "    style E fill:#e8f5e8\n",
    "    style F fill:#fff3e0\n",
    "    style G fill:#ffebee\n",
    "    style L fill:#e1f5fe\n",
    "\"\"\"\n",
    "\n",
    "mm(diagrama)"
   ]
  },
  {
   "cell_type": "code",
   "execution_count": 2,
   "metadata": {},
   "outputs": [],
   "source": [
    "import timeit"
   ]
  },
  {
   "cell_type": "code",
   "execution_count": 3,
   "metadata": {},
   "outputs": [
    {
     "name": "stdout",
     "output_type": "stream",
     "text": [
      "=== MÉTODO A: Loop de soma simples ===\n",
      "Para n =   100000, tempo gasto: 0.0054443590 segundos\n",
      "Para n =  1000000, tempo gasto: 0.0563320150 segundos\n",
      "Para n = 10000000, tempo gasto: 0.4822282360 segundos\n",
      "\n"
     ]
    }
   ],
   "source": [
    "# a) Loop de soma simples\n",
    "print(\"=== MÉTODO A: Loop de soma simples ===\")\n",
    "N = (10**5, 10**6, 10**7)\n",
    "tempos_loop = []\n",
    "\n",
    "for n in N:\n",
    "    t = timeit.Timer(\n",
    "        stmt=\"\"\"\n",
    "soma = 0 \n",
    "for i in range(1, n + 1): \n",
    "    soma += i\n",
    "\"\"\",\n",
    "        globals={'n': n})\n",
    "    tempo = t.timeit(number=1)\n",
    "    tempos_loop.append(tempo)\n",
    "    print(f'Para n = {n:>8}, tempo gasto: {tempo:.10f} segundos')\n",
    "\n",
    "print()"
   ]
  },
  {
   "cell_type": "markdown",
   "metadata": {},
   "source": [
    "b) Alternativa com `sum(range(...))`\n",
    "\n",
    "Agora calcule a mesma soma com:\n",
    "\n",
    "```python\n",
    "soma = sum(range(1, N+1))\n",
    "```"
   ]
  },
  {
   "cell_type": "code",
   "execution_count": 4,
   "metadata": {},
   "outputs": [
    {
     "name": "stdout",
     "output_type": "stream",
     "text": [
      "=== MÉTODO B: sum(range(...)) ===\n",
      "Para n =   100000, tempo gasto: 0.0020122670 segundos\n",
      "Para n =  1000000, tempo gasto: 0.0190613530 segundos\n",
      "Para n = 10000000, tempo gasto: 0.1969069920 segundos\n",
      "\n"
     ]
    }
   ],
   "source": [
    "# b) Alternativa com sum(range(...))\n",
    "print(\"=== MÉTODO B: sum(range(...)) ===\")\n",
    "tempos_sum = []\n",
    "\n",
    "for n in N:\n",
    "    t = timeit.Timer(\n",
    "        stmt=\"\"\"\n",
    "soma = sum(range(1, n+1))\n",
    "\"\"\",\n",
    "        globals={'n': n})\n",
    "    tempo = t.timeit(number=1)\n",
    "    tempos_sum.append(tempo)\n",
    "    print(f'Para n = {n:>8}, tempo gasto: {tempo:.10f} segundos')\n",
    "\n",
    "print()"
   ]
  },
  {
   "cell_type": "markdown",
   "metadata": {},
   "source": [
    "c) Fórmula direta\n",
    "\n",
    "Use a fórmula matemática:\n",
    "\n",
    "$$\n",
    "S = \\frac{N(N+1)}{2}\n",
    "$$"
   ]
  },
  {
   "cell_type": "code",
   "execution_count": 5,
   "metadata": {},
   "outputs": [
    {
     "name": "stdout",
     "output_type": "stream",
     "text": [
      "=== MÉTODO C: Fórmula matemática ===\n",
      "Para n =   100000, tempo gasto: 0.0000022000 segundos\n",
      "Para n =  1000000, tempo gasto: 0.0000009160 segundos\n",
      "Para n = 10000000, tempo gasto: 0.0000008250 segundos\n",
      "\n"
     ]
    }
   ],
   "source": [
    "# c) Fórmula direta\n",
    "print(\"=== MÉTODO C: Fórmula matemática ===\")\n",
    "tempos_formula = []\n",
    "\n",
    "for n in N:\n",
    "    t = timeit.Timer(\n",
    "        stmt=\"\"\"\n",
    "soma = (n*(n + 1)) // 2\n",
    "\"\"\",\n",
    "        globals={'n': n})\n",
    "    tempo = t.timeit(number=1)\n",
    "    tempos_formula.append(tempo)\n",
    "    print(f'Para n = {n:>8}, tempo gasto: {tempo:.10f} segundos')\n",
    "\n",
    "print()"
   ]
  },
  {
   "cell_type": "markdown",
   "metadata": {},
   "source": [
    "d) (Exploração mais desafiadora)\n",
    "\n",
    "Implemente uma função que execute a mesma soma, mas armazenando todos os resultados parciais em uma lista:\n",
    "\n",
    "```python\n",
    "somas = []\n",
    "s = 0\n",
    "for i in range(1, N+1):\n",
    "    s += i\n",
    "    somas.append(s)\n",
    "```"
   ]
  },
  {
   "cell_type": "code",
   "execution_count": 6,
   "metadata": {},
   "outputs": [
    {
     "name": "stdout",
     "output_type": "stream",
     "text": [
      "=== MÉTODO D: Loop com armazenamento em lista ===\n",
      "Para n =   100000, tempo gasto: 0.0096854100 segundos\n",
      "Para n =  1000000, tempo gasto: 0.0965413290 segundos\n",
      "Para n = 10000000, tempo gasto: 1.0974165130 segundos\n",
      "\n"
     ]
    }
   ],
   "source": [
    "# d) Loop com armazenamento em lista\n",
    "print(\"=== MÉTODO D: Loop com armazenamento em lista ===\")\n",
    "tempos_lista = []\n",
    "\n",
    "for n in N:\n",
    "    t = timeit.Timer(\n",
    "        stmt=\"\"\"\n",
    "somas = []\n",
    "s = 0\n",
    "for i in range(1, n + 1):\n",
    "    s += i\n",
    "    somas.append(s)\n",
    "\"\"\",\n",
    "        globals={'n': n})\n",
    "    tempo = t.timeit(number=1)\n",
    "    tempos_lista.append(tempo)\n",
    "    print(f'Para n = {n:>8}, tempo gasto: {tempo:.10f} segundos')\n",
    "\n",
    "print()"
   ]
  },
  {
   "cell_type": "code",
   "execution_count": 7,
   "metadata": {},
   "outputs": [
    {
     "name": "stdout",
     "output_type": "stream",
     "text": [
      "=== COMPARAÇÃO DOS MÉTODOS ===\n",
      "N          Loop         sum(range)   Fórmula      Lista       \n",
      "------------------------------------------------------------\n",
      "100000     0.005444     0.002012     0.000002     0.009685    \n",
      "1000000    0.056332     0.019061     0.000001     0.096541    \n",
      "10000000   0.482228     0.196907     0.000001     1.097417    \n",
      "\n",
      "=== ANÁLISE DE DESEMPENHO RELATIVO ===\n",
      "\n",
      "Para N = 100000:\n",
      "  - sum(range) é 2.71x mais rápido que loop simples\n",
      "  - Fórmula é 2475x mais rápida que loop simples\n",
      "  - Loop com lista é 1.78x mais lento que loop simples\n",
      "\n",
      "Para N = 1000000:\n",
      "  - sum(range) é 2.96x mais rápido que loop simples\n",
      "  - Fórmula é 61498x mais rápida que loop simples\n",
      "  - Loop com lista é 1.71x mais lento que loop simples\n",
      "\n",
      "Para N = 10000000:\n",
      "  - sum(range) é 2.45x mais rápido que loop simples\n",
      "  - Fórmula é 584519x mais rápida que loop simples\n",
      "  - Loop com lista é 2.28x mais lento que loop simples\n"
     ]
    }
   ],
   "source": [
    "# Comparação dos resultados\n",
    "print(\"=== COMPARAÇÃO DOS MÉTODOS ===\")\n",
    "print(f\"{'N':<10} {'Loop':<12} {'sum(range)':<12} {'Fórmula':<12} {'Lista':<12}\")\n",
    "print(\"-\" * 60)\n",
    "\n",
    "for i, n in enumerate(N):\n",
    "    print(f\"{n:<10} {tempos_loop[i]:<12.6f} {tempos_sum[i]:<12.6f} {tempos_formula[i]:<12.6f} {tempos_lista[i]:<12.6f}\")\n",
    "\n",
    "print(\"\\n=== ANÁLISE DE DESEMPENHO RELATIVO ===\")\n",
    "for i, n in enumerate(N):\n",
    "    print(f\"\\nPara N = {n}:\")\n",
    "    print(f\"  - sum(range) é {tempos_loop[i]/tempos_sum[i]:.2f}x mais rápido que loop simples\")\n",
    "    print(f\"  - Fórmula é {tempos_loop[i]/tempos_formula[i]:.0f}x mais rápida que loop simples\")\n",
    "    print(f\"  - Loop com lista é {tempos_lista[i]/tempos_loop[i]:.2f}x mais lento que loop simples\")"
   ]
  },
  {
   "cell_type": "markdown",
   "metadata": {},
   "source": [
    "## Análise e Discussão dos Resultados\n",
    "\n",
    "**O que faz o método D (loop com lista) ser mais lento?**\n",
    "\n",
    "O método D é mais lento devido a vários fatores:\n",
    "\n",
    "1. **Overhead de alocação de memória**: A lista precisa crescer dinamicamente conforme novos elementos são adicionados, exigindo realocações periódicas de memória.\n",
    "\n",
    "2. **Operações adicionais**: Além da soma, o código executa operações extras:\n",
    "   - Criação de objetos (cada número é um objeto Python)\n",
    "   - Chamadas ao método `append()`\n",
    "   - Gerenciamento da estrutura da lista\n",
    "\n",
    "3. **Uso de memória**: Armazenar todos os valores intermediários consome muito mais memória, causando possível impacto no cache do processador.\n",
    "\n",
    "**O uso de `append()` impacta o desempenho?**\n",
    "\n",
    "Sim, significativamente. O `append()` tem complexidade amortizada O(1), mas ocasionalmente precisa realocar a lista inteira quando a capacidade é excedida, resultando em operações O(n). Para N elementos, isso acontece aproximadamente log₂(N) vezes.\n",
    "\n",
    "### Conclusões do experimento:\n",
    "\n",
    "1. **Fórmula matemática** é sempre a mais eficiente (O(1)) - tempo constante independente de N\n",
    "2. **sum(range())** é mais rápida que loop manual por ser implementada em C\n",
    "3. **Loop simples** tem desempenho previsível O(N)\n",
    "4. **Loop com lista** é o mais lento devido ao overhead de armazenamento\n",
    "\n",
    "A diferença de desempenho se torna mais pronunciada conforme N aumenta, demonstrando a importância da escolha do algoritmo adequado."
   ]
  }
 ],
 "metadata": {
  "kernelspec": {
   "display_name": "av6",
   "language": "python",
   "name": "python3"
  },
  "language_info": {
   "codemirror_mode": {
    "name": "ipython",
    "version": 3
   },
   "file_extension": ".py",
   "mimetype": "text/x-python",
   "name": "python",
   "nbconvert_exporter": "python",
   "pygments_lexer": "ipython3",
   "version": "3.12.3"
  }
 },
 "nbformat": 4,
 "nbformat_minor": 2
}

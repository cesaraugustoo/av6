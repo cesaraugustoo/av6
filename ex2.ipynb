{
 "cells": [
  {
   "cell_type": "markdown",
   "metadata": {},
   "source": [
    "## Exercício 2"
   ]
  },
  {
   "cell_type": "markdown",
   "metadata": {},
   "source": [
    "Neste exercício, você irá comparar o desempenho de dois algoritmos de busca: a busca linear e a busca binária. Embora ambos resolvam o mesmo problema, eles apresentam tempos de execução muito diferentes para grandes volumes de dados.\n",
    "O uso da linguagem Python é obrigatório, assim como o uso do módulo `time`."
   ]
  },
  {
   "cell_type": "markdown",
   "metadata": {},
   "source": [
    "a) Implementação de algoritmos de busca\n",
    "\n",
    "Implemente duas funções em Python que recebem uma lista ordenada e um número-alvo como entrada, e retornam o índice do número caso ele exista:\n",
    "\n",
    "1. Busca linear: verifica elemento por elemento, da esquerda para a direita.\n",
    "\n",
    "2. Busca binária: divide a lista ao meio a cada passo, descartando metade dos elementos."
   ]
  },
  {
   "cell_type": "code",
   "execution_count": null,
   "metadata": {},
   "outputs": [],
   "source": []
  },
  {
   "cell_type": "markdown",
   "metadata": {},
   "source": [
    "b) Medindo o tempo de execução\n",
    "\n",
    "Crie listas com tamanhos $N=10^4$,$10^5$,$10^6$,$10^7$. com números de $1$ a $N$, e busque por:\n",
    "\n",
    "- Um elemento no início\n",
    "- Um elemento no meio\n",
    "- Um elemento no fim\n",
    "- Um elemento que não está na lista\n",
    "\n",
    "Meça os tempos de execução para cada busca em cada cenário. Use `time.time()` para medir os tempos."
   ]
  },
  {
   "cell_type": "code",
   "execution_count": null,
   "metadata": {},
   "outputs": [],
   "source": []
  },
  {
   "cell_type": "markdown",
   "metadata": {},
   "source": [
    "c) Comparando os tempos\n",
    "\n",
    "Crie gráficos com `matplotlib` que mostrem:\n",
    "\n",
    "- Tempo de execução (em escala log-log) versus o tamanho da lista para ambos os algoritmos.\n",
    "- Uma curva para cada caso de posição (início, meio, fim, não encontrado)."
   ]
  },
  {
   "cell_type": "code",
   "execution_count": null,
   "metadata": {},
   "outputs": [],
   "source": []
  },
  {
   "cell_type": "markdown",
   "metadata": {},
   "source": [
    "d) (Exploração mais desafiadora)\n",
    "\n",
    "Compare a versão implementada por você da busca binária com a versão otimizada fornecida pela função `bisect.bisect_left` da biblioteca padrão Python."
   ]
  },
  {
   "cell_type": "code",
   "execution_count": null,
   "metadata": {},
   "outputs": [],
   "source": []
  },
  {
   "cell_type": "markdown",
   "metadata": {},
   "source": []
  }
 ],
 "metadata": {
  "kernelspec": {
   "display_name": "base",
   "language": "python",
   "name": "python3"
  },
  "language_info": {
   "name": "python",
   "version": "3.12.7"
  }
 },
 "nbformat": 4,
 "nbformat_minor": 2
}

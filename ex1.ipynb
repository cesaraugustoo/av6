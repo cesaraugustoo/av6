{
 "cells": [
  {
   "cell_type": "markdown",
   "metadata": {},
   "source": [
    "## Exercício 1"
   ]
  },
  {
   "cell_type": "markdown",
   "metadata": {},
   "source": [
    "Mesmo operações simples podem ter tempos de execução diferentes dependendo da forma como são escritas ou implementadas. Neste exercício, você testará a rapidez de comandos simples repetidos muitas vezes, usando o módulo `time`."
   ]
  },
  {
   "cell_type": "markdown",
   "metadata": {},
   "source": [
    "a) Loop de soma simples\n",
    "\n",
    "Escreva um código que calcule a soma de $1+2+3+⋯+N$ usando um laço `for`, com:\n",
    "\n",
    "```python\n",
    "soma = 0\n",
    "for i in range(1, N+1):\n",
    "    soma += i\n",
    "```\n",
    "\n",
    "Use o módulo `time` para medir o tempo de execução para diferentes valores de $N=10^5$,$10^6$,$10^7$."
   ]
  },
  {
   "cell_type": "code",
   "execution_count": 1,
   "metadata": {},
   "outputs": [],
   "source": [
    "import timeit"
   ]
  },
  {
   "cell_type": "code",
   "execution_count": 13,
   "metadata": {},
   "outputs": [
    {
     "name": "stdout",
     "output_type": "stream",
     "text": [
      "Para n = 100000, tempo gasto: 0.0067997000 segundos\n",
      "Para n = 1000000, tempo gasto: 0.0666774000 segundos\n",
      "Para n = 10000000, tempo gasto: 0.6796078000 segundos\n"
     ]
    }
   ],
   "source": [
    "N = (10**5, 10**6, 10**7)\n",
    "soma = 0\n",
    "for n in N:\n",
    "    t = timeit.Timer(\n",
    "        stmt=\"\"\"\n",
    "soma = 0 \n",
    "for i in range(1, n + 1): \n",
    "    soma += i\n",
    "\"\"\",\n",
    "        globals={'n': n})\n",
    "    print(f'Para n = {n}, tempo gasto: {t.timeit(number=1):.10f} segundos')"
   ]
  },
  {
   "cell_type": "markdown",
   "metadata": {},
   "source": [
    "b) Alternativa com `sum(range(...))`\n",
    "\n",
    "Agora calcule a mesma soma com:\n",
    "\n",
    "```python\n",
    "soma = sum(range(1, N+1))\n",
    "```"
   ]
  },
  {
   "cell_type": "code",
   "execution_count": 9,
   "metadata": {},
   "outputs": [
    {
     "name": "stdout",
     "output_type": "stream",
     "text": [
      "Para n = 100000, tempo gasto: 0.0023195000 segundos\n",
      "Para n = 1000000, tempo gasto: 0.0222404000 segundos\n",
      "Para n = 10000000, tempo gasto: 0.2173958000 segundos\n"
     ]
    }
   ],
   "source": [
    "N = (10**5, 10**6, 10**7)\n",
    "soma = 0\n",
    "for n in N:\n",
    "    t = timeit.Timer(\n",
    "        stmt=\"\"\"\n",
    "soma = sum(range(1, n+1))\n",
    "\"\"\",\n",
    "        globals={'n': n})\n",
    "    print(f'Para n = {n}, tempo gasto: {t.timeit(number=1):.10f} segundos')"
   ]
  },
  {
   "cell_type": "markdown",
   "metadata": {},
   "source": [
    "c) Fórmula direta\n",
    "\n",
    "Use a fórmula matemática:\n",
    "\n",
    "$$\n",
    "S = \\frac{N(N+1)}{2}\n",
    "$$"
   ]
  },
  {
   "cell_type": "code",
   "execution_count": 10,
   "metadata": {},
   "outputs": [
    {
     "name": "stdout",
     "output_type": "stream",
     "text": [
      "Para n = 100000, tempo gasto: 0.0000031000 segundos\n",
      "Para n = 1000000, tempo gasto: 0.0000014000 segundos\n",
      "Para n = 10000000, tempo gasto: 0.0000013000 segundos\n"
     ]
    }
   ],
   "source": [
    "N = (10**5, 10**6, 10**7)\n",
    "soma = 0\n",
    "for n in N:\n",
    "    t = timeit.Timer(\n",
    "        stmt=\"\"\"\n",
    "soma = (n*(n + 1)) // 2\n",
    "\"\"\",\n",
    "        globals={'n': n})\n",
    "    print(f'Para n = {n}, tempo gasto: {t.timeit(number=1):.10f} segundos')"
   ]
  },
  {
   "cell_type": "markdown",
   "metadata": {},
   "source": [
    "d) (Exploração mais desafiadora)\n",
    "\n",
    "Implemente uma função que execute a mesma soma, mas armazenando todos os resultados parciais em uma lista:\n",
    "\n",
    "```python\n",
    "somas = []\n",
    "s = 0\n",
    "for i in range(1, N+1):\n",
    "    s += i\n",
    "    somas.append(s)\n",
    "```"
   ]
  },
  {
   "cell_type": "code",
   "execution_count": 11,
   "metadata": {},
   "outputs": [
    {
     "name": "stdout",
     "output_type": "stream",
     "text": [
      "Para n = 100000, tempo gasto: 0.0098901000 segundos\n",
      "Para n = 1000000, tempo gasto: 0.1157770000 segundos\n",
      "Para n = 10000000, tempo gasto: 1.1684525000 segundos\n"
     ]
    }
   ],
   "source": [
    "N = (10**5, 10**6, 10**7)\n",
    "soma = 0\n",
    "for n in N:\n",
    "    t = timeit.Timer(\n",
    "        stmt=\"\"\"\n",
    "somas = []\n",
    "s = 0\n",
    "for i in range(1, n + 1):\n",
    "    s += i\n",
    "    somas.append(s)\n",
    "\"\"\",\n",
    "        globals={'n': n})\n",
    "    print(f'Para n = {n}, tempo gasto: {t.timeit(number=1):.10f} segundos')"
   ]
  }
 ],
 "metadata": {
  "kernelspec": {
   "display_name": "base",
   "language": "python",
   "name": "python3"
  },
  "language_info": {
   "codemirror_mode": {
    "name": "ipython",
    "version": 3
   },
   "file_extension": ".py",
   "mimetype": "text/x-python",
   "name": "python",
   "nbconvert_exporter": "python",
   "pygments_lexer": "ipython3",
   "version": "3.12.7"
  }
 },
 "nbformat": 4,
 "nbformat_minor": 2
}
